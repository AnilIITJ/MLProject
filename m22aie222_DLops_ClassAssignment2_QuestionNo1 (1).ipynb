{
  "nbformat": 4,
  "nbformat_minor": 0,
  "metadata": {
    "colab": {
      "provenance": []
    },
    "kernelspec": {
      "name": "python3",
      "display_name": "Python 3"
    },
    "language_info": {
      "name": "python"
    }
  },
  "cells": [
    {
      "cell_type": "markdown",
      "source": [
        "Implementing MLP"
      ],
      "metadata": {
        "id": "nCdLFczX_Rek"
      }
    },
    {
      "cell_type": "code",
      "source": [
        "import torch\n",
        "import torch.nn as nn\n",
        "import torch.optim as optim\n",
        "import torchvision.transforms as transforms\n",
        "from torch.utils.data import DataLoader\n",
        "from torchvision.datasets import USPS\n"
      ],
      "metadata": {
        "id": "JWenqveo_UiX"
      },
      "execution_count": 1,
      "outputs": []
    },
    {
      "cell_type": "code",
      "source": [
        "class MLP(nn.Module):\n",
        "    def __init__(self):\n",
        "        super(MLP, self).__init__()\n",
        "        self.layers = nn.Sequential(\n",
        "            nn.Linear(16*16, 128),\n",
        "            nn.ReLU(),\n",
        "            nn.Linear(128, 64),\n",
        "            nn.ReLU(),\n",
        "            nn.Linear(64, 10)\n",
        "        )\n",
        "\n",
        "    def forward(self, x):\n",
        "        x = x.view(x.size(0), -1)\n",
        "        return self.layers(x)"
      ],
      "metadata": {
        "id": "iD7yhU_t_cY5"
      },
      "execution_count": 2,
      "outputs": []
    },
    {
      "cell_type": "code",
      "source": [
        "import h5py\n",
        "def load_usps_dataset(h5_file):\n",
        "    with h5py.File(h5_file, 'r') as hf:\n",
        "        train = hf.get('train')\n",
        "        X_train = train.get('data')[:]\n",
        "        y_train = train.get('target')[:]\n",
        "        test = hf.get('test')\n",
        "        X_test = test.get('data')[:]\n",
        "        y_test = test.get('target')[:]\n",
        "    return X_train, y_train, X_test, y_test\n",
        "\n",
        "# Load the dataset\n",
        "X_train, y_train, X_test, y_test = load_usps_dataset('usps.h5')"
      ],
      "metadata": {
        "id": "rtVzz6tJARcy"
      },
      "execution_count": 4,
      "outputs": []
    },
    {
      "cell_type": "code",
      "source": [
        "from torch.utils.data import TensorDataset\n",
        "# Convert the data to PyTorch tensors\n",
        "X_train = torch.tensor(X_train)\n",
        "X_test = torch.tensor(X_test)\n",
        "\n",
        "# Convert the target data to type torch.long\n",
        "y_train = torch.tensor(y_train, dtype=torch.long)\n",
        "y_test = torch.tensor(y_test, dtype=torch.long)\n",
        "\n",
        "# Create tensor datasets\n",
        "train_ds = TensorDataset(X_train, y_train)\n",
        "test_ds = TensorDataset(X_test, y_test)\n",
        "\n",
        "# Create data loaders\n",
        "train_loader = DataLoader(train_ds, batch_size=64, shuffle=True)\n",
        "test_loader = DataLoader(test_ds, batch_size=1000)"
      ],
      "metadata": {
        "colab": {
          "base_uri": "https://localhost:8080/"
        },
        "id": "YY26b6wREDIz",
        "outputId": "aa6a0f23-df45-4816-cc36-7606e47ed982"
      },
      "execution_count": 16,
      "outputs": [
        {
          "output_type": "stream",
          "name": "stderr",
          "text": [
            "<ipython-input-16-51fa0b267191>:3: UserWarning: To copy construct from a tensor, it is recommended to use sourceTensor.clone().detach() or sourceTensor.clone().detach().requires_grad_(True), rather than torch.tensor(sourceTensor).\n",
            "  X_train = torch.tensor(X_train)\n",
            "<ipython-input-16-51fa0b267191>:4: UserWarning: To copy construct from a tensor, it is recommended to use sourceTensor.clone().detach() or sourceTensor.clone().detach().requires_grad_(True), rather than torch.tensor(sourceTensor).\n",
            "  X_test = torch.tensor(X_test)\n",
            "<ipython-input-16-51fa0b267191>:7: UserWarning: To copy construct from a tensor, it is recommended to use sourceTensor.clone().detach() or sourceTensor.clone().detach().requires_grad_(True), rather than torch.tensor(sourceTensor).\n",
            "  y_train = torch.tensor(y_train, dtype=torch.long)\n",
            "<ipython-input-16-51fa0b267191>:8: UserWarning: To copy construct from a tensor, it is recommended to use sourceTensor.clone().detach() or sourceTensor.clone().detach().requires_grad_(True), rather than torch.tensor(sourceTensor).\n",
            "  y_test = torch.tensor(y_test, dtype=torch.long)\n"
          ]
        }
      ]
    },
    {
      "cell_type": "code",
      "source": [
        "class CNN(nn.Module):\n",
        "    def __init__(self):\n",
        "        super(CNN, self).__init__()\n",
        "        self.conv_layers = nn.Sequential(\n",
        "            nn.Conv2d(1, 32, kernel_size=3, stride=1, padding=1),\n",
        "            nn.ReLU(),\n",
        "            nn.MaxPool2d(kernel_size=2, stride=2),\n",
        "            nn.Conv2d(32, 64, kernel_size=3, stride=1, padding=1),\n",
        "            nn.ReLU(),\n",
        "            nn.MaxPool2d(kernel_size=2, stride=2)\n",
        "        )\n",
        "        self.fc_layers = nn.Sequential(\n",
        "            nn.Linear(64 * 4 * 4, 128),\n",
        "            nn.ReLU(),\n",
        "            nn.Linear(128, 10)\n",
        "        )\n",
        "\n",
        "    def forward(self, x):\n",
        "        x = self.conv_layers(x)\n",
        "        x = x.view(x.size(0), -1)\n",
        "        return self.fc_layers(x)"
      ],
      "metadata": {
        "id": "LK-L6IfDES0z"
      },
      "execution_count": 17,
      "outputs": []
    },
    {
      "cell_type": "code",
      "source": [
        "def train(model, device, train_loader, optimizer, criterion):\n",
        "    model.train()\n",
        "    total_loss = 0\n",
        "    for data, target in train_loader:\n",
        "        data, target = data.to(device), target.to(device)\n",
        "        optimizer.zero_grad()\n",
        "        output = model(data)\n",
        "        loss = criterion(output, target)\n",
        "        loss.backward()\n",
        "        optimizer.step()\n",
        "        total_loss += loss.item()\n",
        "    average_loss = total_loss / len(train_loader)\n",
        "    return average_loss"
      ],
      "metadata": {
        "id": "i4hZBIxvEUBt"
      },
      "execution_count": 37,
      "outputs": []
    },
    {
      "cell_type": "code",
      "source": [
        "def evaluate(model, device, data_loader):\n",
        "    model.eval()\n",
        "    correct = 0\n",
        "    with torch.no_grad():\n",
        "        for data, target in data_loader:\n",
        "            data, target = data.to(device), target.to(device)\n",
        "            output = model(data)\n",
        "            pred = output.argmax(dim=1, keepdim=True)\n",
        "            correct += pred.eq(target.view_as(pred)).sum().item()\n",
        "    return correct / len(data_loader.dataset)"
      ],
      "metadata": {
        "id": "twvoLIBhEX_r"
      },
      "execution_count": 38,
      "outputs": []
    },
    {
      "cell_type": "code",
      "source": [
        "device = torch.device('cuda' if torch.cuda.is_available() else 'cpu')\n",
        "\n",
        "# For MLP\n",
        "mlp_model = MLP().to(device)\n",
        "optimizer = optim.Adam(mlp_model.parameters(), lr=0.001)\n",
        "criterion = nn.CrossEntropyLoss()\n",
        "\n"
      ],
      "metadata": {
        "id": "SvmQ8wnUEaFB"
      },
      "execution_count": 39,
      "outputs": []
    },
    {
      "cell_type": "code",
      "source": [
        "num_epochs = 10\n",
        "for epoch in range(num_epochs):\n",
        "    train(mlp_model, device, train_loader, optimizer, criterion)\n",
        "mlp_accuracy = evaluate(mlp_model, device, test_loader)"
      ],
      "metadata": {
        "id": "nEJD0hgXEgIu"
      },
      "execution_count": 40,
      "outputs": []
    },
    {
      "cell_type": "code",
      "source": [
        "# For CNN\n",
        "cnn_model = CNN().to(device)\n",
        "optimizer = optim.Adam(cnn_model.parameters(), lr=0.001)"
      ],
      "metadata": {
        "id": "Lb-iwz0ZF4Fp"
      },
      "execution_count": 41,
      "outputs": []
    },
    {
      "cell_type": "code",
      "source": [
        "X_train_cnn = X_train.view(-1, 1, 16, 16)\n",
        "X_test_cnn = X_test.view(-1, 1, 16, 16)\n",
        "\n",
        "# Tensor datasets for CNN\n",
        "train_ds_cnn = TensorDataset(X_train_cnn, y_train)\n",
        "test_ds_cnn = TensorDataset(X_test_cnn, y_test)\n",
        "\n",
        "# Data loaders for CNN\n",
        "train_loader_cnn = DataLoader(train_ds_cnn, batch_size=64, shuffle=True)\n",
        "test_loader_cnn = DataLoader(test_ds_cnn, batch_size=1000)"
      ],
      "metadata": {
        "id": "MSTxs_MgF7ih"
      },
      "execution_count": 42,
      "outputs": []
    },
    {
      "cell_type": "code",
      "source": [
        "for epoch in range(num_epochs):\n",
        "    train(cnn_model, device, train_loader_cnn, optimizer, criterion)\n",
        "cnn_accuracy = evaluate(cnn_model, device, test_loader_cnn)"
      ],
      "metadata": {
        "id": "Ne7FPcpbHMq5"
      },
      "execution_count": 43,
      "outputs": []
    },
    {
      "cell_type": "markdown",
      "source": [
        "Compare the models in terms of accuracy, recall, precision, and confusion matrix."
      ],
      "metadata": {
        "id": "PsZoFVPtHefS"
      }
    },
    {
      "cell_type": "code",
      "source": [
        "from sklearn.metrics import accuracy_score, recall_score, precision_score, confusion_matrix\n",
        "def get_predictions_and_targets(model, data_loader, device):\n",
        "    model.eval()\n",
        "    predictions = []\n",
        "    targets = []\n",
        "\n",
        "    with torch.no_grad():\n",
        "        for data, target in data_loader:\n",
        "            data, target = data.to(device), target.to(device)\n",
        "            output = model(data)\n",
        "            preds = output.argmax(dim=1)\n",
        "            predictions.extend(preds.tolist())\n",
        "            targets.extend(target.tolist())\n",
        "\n",
        "    return predictions, targets\n",
        "\n",
        "\n"
      ],
      "metadata": {
        "id": "C_s0UTX_Hiri"
      },
      "execution_count": 44,
      "outputs": []
    },
    {
      "cell_type": "code",
      "source": [
        "# Get predictions and targets for both models\n",
        "mlp_preds, mlp_targets = get_predictions_and_targets(mlp_model, test_loader, device)\n",
        "cnn_preds, cnn_targets = get_predictions_and_targets(cnn_model, test_loader_cnn, device)\n"
      ],
      "metadata": {
        "id": "WZrWn-jKH70N"
      },
      "execution_count": 45,
      "outputs": []
    },
    {
      "cell_type": "code",
      "source": [
        "# Calculate metrics for MLP\n",
        "mlp_accuracy = accuracy_score(mlp_targets, mlp_preds)\n",
        "mlp_recall = recall_score(mlp_targets, mlp_preds, average='macro')\n",
        "mlp_precision = precision_score(mlp_targets, mlp_preds, average='macro')\n",
        "mlp_conf_matrix = confusion_matrix(mlp_targets, mlp_preds)"
      ],
      "metadata": {
        "id": "Jnr51YArICbL"
      },
      "execution_count": 46,
      "outputs": []
    },
    {
      "cell_type": "code",
      "source": [
        "# Calculate metrics for CNN\n",
        "cnn_accuracy = accuracy_score(cnn_targets, cnn_preds)\n",
        "cnn_recall = recall_score(cnn_targets, cnn_preds, average='macro')\n",
        "cnn_precision = precision_score(cnn_targets, cnn_preds, average='macro')\n",
        "cnn_conf_matrix = confusion_matrix(cnn_targets, cnn_preds)"
      ],
      "metadata": {
        "id": "MJAZT02HIGh0"
      },
      "execution_count": 47,
      "outputs": []
    },
    {
      "cell_type": "markdown",
      "source": [
        "Use the Pytorch TensorBoard toolkit to show the precision-recall curve and loss function."
      ],
      "metadata": {
        "id": "1QTsAw4lIR66"
      }
    },
    {
      "cell_type": "code",
      "source": [
        "from torch.utils.tensorboard import SummaryWriter\n",
        "writer_mlp = SummaryWriter('runs/mlp_experiment')\n",
        "writer_cnn = SummaryWriter('runs/cnn_experiment')"
      ],
      "metadata": {
        "id": "Q2bjHJnZIUN1"
      },
      "execution_count": 48,
      "outputs": []
    },
    {
      "cell_type": "code",
      "source": [
        "# MLP Model Training with TensorBoard Logging\n",
        "for epoch in range(num_epochs):\n",
        "    train(mlp_model, device, train_loader, optimizer, criterion)\n",
        "    loss_value =train(mlp_model, device, train_loader, optimizer, criterion)\n",
        "    writer_mlp.add_scalar('Loss/train', loss_value, epoch)\n",
        "    # You might want to log other metrics as well\n",
        "\n",
        "# CNN Model Training with TensorBoard Logging\n",
        "for epoch in range(num_epochs):\n",
        "    train(cnn_model, device, train_loader_cnn, optimizer, criterion)\n",
        "    loss_value = train(cnn_model, device, train_loader_cnn, optimizer, criterion)\n",
        "    writer_cnn.add_scalar('Loss/train', loss_value, epoch)\n",
        "    # You might want to log other metrics as well\n",
        "\n",
        "# Close the writers after training\n",
        "writer_mlp.close()\n",
        "writer_cnn.close()"
      ],
      "metadata": {
        "id": "l7Spjt23IZQe"
      },
      "execution_count": 51,
      "outputs": []
    }
  ]
}